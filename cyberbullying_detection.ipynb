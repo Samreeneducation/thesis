{
  "nbformat": 4,
  "nbformat_minor": 0,
  "metadata": {
    "colab": {
      "name": "cyberbullying detection.ipynb",
      "provenance": [],
      "private_outputs": true,
      "include_colab_link": true
    },
    "kernelspec": {
      "name": "python3",
      "display_name": "Python 3"
    }
  },
  "cells": [
    {
      "cell_type": "markdown",
      "metadata": {
        "id": "view-in-github",
        "colab_type": "text"
      },
      "source": [
        "<a href=\"https://colab.research.google.com/github/Samreeneducation/thesis/blob/master/cyberbullying_detection.ipynb\" target=\"_parent\"><img src=\"https://colab.research.google.com/assets/colab-badge.svg\" alt=\"Open In Colab\"/></a>"
      ]
    },
    {
      "cell_type": "markdown",
      "metadata": {
        "id": "pIdQJGG5srWR",
        "colab_type": "text"
      },
      "source": [
        "Detecting Cyberbullying in comments"
      ]
    },
    {
      "cell_type": "code",
      "metadata": {
        "id": "mtzKMvhylnKq",
        "colab_type": "code",
        "colab": {}
      },
      "source": [
        "import numpy as np \n",
        "import pandas as pd \n",
        "import matplotlib.pyplot as plt\n",
        "import seaborn as sns\n",
        "from sklearn.model_selection import train_test_split, GridSearchCV\n",
        "from sklearn.feature_extraction.text import CountVectorizer\n",
        "from sklearn.metrics import f1_score, accuracy_score, precision_score, recall_score, make_scorer\n",
        "from time import time\n",
        "\n",
        "from sklearn.naive_bayes import MultinomialNB\n",
        "from sklearn.tree import DecisionTreeClassifier\n",
        "from sklearn.svm import LinearSVC\n",
        "from sklearn.ensemble import AdaBoostClassifier, RandomForestClassifier, BaggingClassifier\n",
        "from sklearn.linear_model import LogisticRegression, SGDClassifier\n",
        "from sklearn.neighbors import KNeighborsClassifier\n",
        "from sklearn.externals import joblib"
      ],
      "execution_count": 0,
      "outputs": []
    },
    {
      "cell_type": "code",
      "metadata": {
        "id": "kZaPkOS7p73R",
        "colab_type": "code",
        "colab": {}
      },
      "source": [
        ""
      ],
      "execution_count": 0,
      "outputs": []
    },
    {
      "cell_type": "code",
      "metadata": {
        "id": "0NzJZWKnqsJf",
        "colab_type": "code",
        "colab": {}
      },
      "source": [
        "from google.colab import files\n",
        "uploaded = files.upload()"
      ],
      "execution_count": 0,
      "outputs": []
    },
    {
      "cell_type": "code",
      "metadata": {
        "id": "InQBK4Hss3wW",
        "colab_type": "code",
        "colab": {}
      },
      "source": [
        "df_scraped = pd.read_csv('data_test_clean.csv')\n"
      ],
      "execution_count": 0,
      "outputs": []
    },
    {
      "cell_type": "code",
      "metadata": {
        "id": "VH7ubw5ksm5r",
        "colab_type": "code",
        "colab": {}
      },
      "source": [
        "from google.colab import files\n",
        "uploaded = files.upload()"
      ],
      "execution_count": 0,
      "outputs": []
    },
    {
      "cell_type": "code",
      "metadata": {
        "id": "ECSzchvqv13o",
        "colab_type": "code",
        "colab": {}
      },
      "source": [
        "df_public= pd.read_csv('datatrainclean.csv')"
      ],
      "execution_count": 0,
      "outputs": []
    },
    {
      "cell_type": "code",
      "metadata": {
        "id": "BVEaUy2BySQz",
        "colab_type": "code",
        "colab": {}
      },
      "source": [
        "df_scraped.head(2)\n"
      ],
      "execution_count": 0,
      "outputs": []
    },
    {
      "cell_type": "code",
      "metadata": {
        "id": "n8Mjw5VMyYac",
        "colab_type": "code",
        "colab": {}
      },
      "source": [
        "df_public.head(2)"
      ],
      "execution_count": 0,
      "outputs": []
    },
    {
      "cell_type": "code",
      "metadata": {
        "id": "SxxMdsL6zMm7",
        "colab_type": "code",
        "colab": {}
      },
      "source": [
        "# for dropping any row from dataframe incase drop id from data frame\n",
        "df_scraped.drop_duplicates(inplace = True)\n",
        "df_scraped.drop('id', axis = 'columns', inplace = True)\n",
        "\n",
        "df_public.drop_duplicates(inplace = True)"
      ],
      "execution_count": 0,
      "outputs": []
    },
    {
      "cell_type": "code",
      "metadata": {
        "id": "TwTKOyulzbSl",
        "colab_type": "code",
        "colab": {}
      },
      "source": [
        "df = pd.concat([df_scraped, df_public])\n"
      ],
      "execution_count": 0,
      "outputs": []
    },
    {
      "cell_type": "code",
      "metadata": {
        "id": "U1RcpBwozkVL",
        "colab_type": "code",
        "colab": {}
      },
      "source": [
        "df.shape\n"
      ],
      "execution_count": 0,
      "outputs": []
    },
    {
      "cell_type": "code",
      "metadata": {
        "id": "5eCaz3bjzpTZ",
        "colab_type": "code",
        "colab": {}
      },
      "source": [
        "plt.figure(figsize = (7,7))\n",
        "sorted_counts = df['cyberbully'].value_counts()\n",
        "plt.pie(sorted_counts, labels= sorted_counts.index, startangle = 90, counterclock = False, wedgeprops = {'width' : 0.6},\n",
        "       autopct='%1.1f%%', pctdistance = 0.7, textprops = {'color': 'black', 'fontsize' : 15}, shadow = True,\n",
        "        colors = sns.color_palette(\"Paired\")[7:])\n",
        "plt.text(x = -0.35, y = 0, s = 'clean_comment: {}'.format(df.shape[0]))\n",
        "\n",
        "plt.title('Distribution of clean_comment in the Dataset', fontsize = 16);"
      ],
      "execution_count": 0,
      "outputs": []
    },
    {
      "cell_type": "code",
      "metadata": {
        "id": "rIY_SrMf0az1",
        "colab_type": "code",
        "colab": {}
      },
      "source": [
        "df['cyberbully'] = df.cyberbully.map({'bully': 1, 'notbully': 0})\n"
      ],
      "execution_count": 0,
      "outputs": []
    },
    {
      "cell_type": "markdown",
      "metadata": {
        "id": "A2_KLKGz3MGZ",
        "colab_type": "text"
      },
      "source": [
        "\n",
        "Implementing a training and predicting Pipeline"
      ]
    }
  ]
}